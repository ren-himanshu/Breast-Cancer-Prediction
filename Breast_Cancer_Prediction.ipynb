{
  "nbformat": 4,
  "nbformat_minor": 0,
  "metadata": {
    "colab": {
      "provenance": [],
      "gpuType": "T4"
    },
    "kernelspec": {
      "name": "python3",
      "display_name": "Python 3"
    },
    "language_info": {
      "name": "python"
    },
    "accelerator": "GPU"
  },
  "cells": [
    {
      "cell_type": "code",
      "execution_count": 15,
      "metadata": {
        "id": "Hr0fjl0FAwTY"
      },
      "outputs": [],
      "source": [
        "import torch\n",
        "import torch.nn as nn\n",
        "import torch.optim as optim\n",
        "from sklearn.datasets import load_breast_cancer\n",
        "from sklearn.model_selection import train_test_split\n",
        "from sklearn.preprocessing import StandardScaler"
      ]
    },
    {
      "cell_type": "code",
      "source": [
        "# Setup device agnostic code\n",
        "device=\"cuda\" if torch.cuda.is_available() else \"cpu\"\n",
        "device"
      ],
      "metadata": {
        "colab": {
          "base_uri": "https://localhost:8080/",
          "height": 36
        },
        "id": "As7aGGvnTlxW",
        "outputId": "03562fac-05f1-43da-a898-894c52b3b39e"
      },
      "execution_count": 16,
      "outputs": [
        {
          "output_type": "execute_result",
          "data": {
            "text/plain": [
              "'cuda'"
            ],
            "application/vnd.google.colaboratory.intrinsic+json": {
              "type": "string"
            }
          },
          "metadata": {},
          "execution_count": 16
        }
      ]
    },
    {
      "cell_type": "code",
      "source": [
        "# Loading breast cancer dataset\n",
        "data= load_breast_cancer()\n",
        "X= data.data\n",
        "Y= data.target"
      ],
      "metadata": {
        "id": "e3_cjWrnT9dj"
      },
      "execution_count": 17,
      "outputs": []
    },
    {
      "cell_type": "code",
      "source": [
        "# Spliting dataset into training and testing sets\n",
        "X_train, X_test, Y_train, Y_test= train_test_split(X, Y, test_size=0.2, random_state=42)"
      ],
      "metadata": {
        "id": "cZTNlCb7Vo1Q"
      },
      "execution_count": 18,
      "outputs": []
    },
    {
      "cell_type": "code",
      "source": [
        "scaler= StandardScaler()\n",
        "X_train = scaler.fit_transform(X_train)\n",
        "X_test = scaler.transform(X_test)"
      ],
      "metadata": {
        "id": "VTVe3fp4WPxb"
      },
      "execution_count": 19,
      "outputs": []
    },
    {
      "cell_type": "code",
      "source": [
        "# Converting numpy array to tensors\n",
        "X_train= torch.tensor(X_train, dtype=torch.float32).to(device)\n",
        "X_test= torch.tensor(X_test, dtype=torch.float32).to(device)\n",
        "Y_train= torch.tensor(Y_train, dtype=torch.float32).to(device)\n",
        "Y_test= torch.tensor(Y_test, dtype=torch.float32).to(device)"
      ],
      "metadata": {
        "id": "6GFv54WJlUA7"
      },
      "execution_count": 20,
      "outputs": []
    },
    {
      "cell_type": "code",
      "source": [
        "# Neural Network\n",
        "class BreastCancer(nn.Module):\n",
        "  def __init__(self, input_size, hidden_size, output_size):\n",
        "    super(BreastCancer, self).__init__()\n",
        "    self.fc1= nn.Linear(input_size, hidden_size)\n",
        "    self.relu= nn.ReLU()\n",
        "    self.fc2= nn.Linear(hidden_size, output_size)\n",
        "    self.sigmoid= nn.Sigmoid()\n",
        "\n",
        "  def forward(self, x: torch.Tensor) -> torch.Tensor:\n",
        "    out= self.fc1(x)\n",
        "    out= self.relu(out)\n",
        "    out= self.fc2(out)\n",
        "    out= self.sigmoid(out)\n",
        "    return out\n"
      ],
      "metadata": {
        "id": "-0ShTlAUX-CA"
      },
      "execution_count": 21,
      "outputs": []
    },
    {
      "cell_type": "code",
      "source": [
        "# Defining hyperparameters\n",
        "input_size= X_train.shape[1]\n",
        "hidden_size= 64\n",
        "output_size= 1\n",
        "learning_rate= 0.001\n",
        "epochs=100"
      ],
      "metadata": {
        "id": "DFaG621yeync"
      },
      "execution_count": 22,
      "outputs": []
    },
    {
      "cell_type": "code",
      "source": [
        "model1= BreastCancer(input_size, hidden_size, output_size).to(device)"
      ],
      "metadata": {
        "id": "OixcCaoQfTle"
      },
      "execution_count": 23,
      "outputs": []
    },
    {
      "cell_type": "code",
      "source": [
        "# Defining loss function and optimizer\n",
        "lossfunc= nn.BCELoss()\n",
        "optimizer= optim.Adam(model1.parameters(),\n",
        "                      lr= learning_rate)"
      ],
      "metadata": {
        "id": "ZxxzMqSWfaDJ"
      },
      "execution_count": 24,
      "outputs": []
    },
    {
      "cell_type": "code",
      "source": [
        "Y_train.size(), X_train.size(), Y_train.view(-1,1).size()"
      ],
      "metadata": {
        "colab": {
          "base_uri": "https://localhost:8080/"
        },
        "id": "sqng9d-vke00",
        "outputId": "0a465421-3a21-43cb-b2f4-daaebe910196"
      },
      "execution_count": 25,
      "outputs": [
        {
          "output_type": "execute_result",
          "data": {
            "text/plain": [
              "(torch.Size([455]), torch.Size([455, 30]), torch.Size([455, 1]))"
            ]
          },
          "metadata": {},
          "execution_count": 25
        }
      ]
    },
    {
      "cell_type": "code",
      "source": [
        "# Training Loop\n",
        "for epoch in range(epochs):\n",
        "  model1.train()\n",
        "  optimizer.zero_grad\n",
        "  output= model1(X_train)\n",
        "  loss= lossfunc(output, Y_train.view(-1,1))\n",
        "  loss.backward()\n",
        "  optimizer.step()\n",
        "\n",
        "  with torch.inference_mode():\n",
        "    predicted= output.round()\n",
        "    correct= (predicted == Y_train.view(-1,1)).float().sum()\n",
        "    accuracy= correct/Y_train.size(0)\n",
        "\n",
        "  if (epoch+1) % 10 == 0:\n",
        "    print(f\"Epoch [{epoch+1}/{epochs}], Loss: {loss.item():.4f}, Accuracy: {accuracy.item()*100:.2f}%\")"
      ],
      "metadata": {
        "colab": {
          "base_uri": "https://localhost:8080/"
        },
        "id": "THfCeT6Qf6EC",
        "outputId": "54a30f2a-1d57-4926-8258-36fa9b96cea4"
      },
      "execution_count": 28,
      "outputs": [
        {
          "output_type": "stream",
          "name": "stdout",
          "text": [
            "Epoch [10/100], Loss: 0.1014, Accuracy: 96.48%\n",
            "Epoch [20/100], Loss: 0.0968, Accuracy: 97.14%\n",
            "Epoch [30/100], Loss: 0.0927, Accuracy: 97.14%\n",
            "Epoch [40/100], Loss: 0.0897, Accuracy: 97.14%\n",
            "Epoch [50/100], Loss: 0.0885, Accuracy: 97.36%\n",
            "Epoch [60/100], Loss: 0.0894, Accuracy: 97.36%\n",
            "Epoch [70/100], Loss: 0.0914, Accuracy: 97.58%\n",
            "Epoch [80/100], Loss: 0.0930, Accuracy: 97.58%\n",
            "Epoch [90/100], Loss: 0.0934, Accuracy: 97.58%\n",
            "Epoch [100/100], Loss: 0.0923, Accuracy: 97.58%\n"
          ]
        }
      ]
    },
    {
      "cell_type": "code",
      "source": [
        "# Evaluating on training set\n",
        "model1.eval()\n",
        "with torch.inference_mode():\n",
        "  output= model1(X_train)\n",
        "  predicted= output.round()\n",
        "  correct= (predicted == Y_train.view(-1,1)).float().sum()\n",
        "  accuracy= correct/Y_train.size(0)\n",
        "  print(f\"Training Accuracy: {accuracy.item()*100:.2f}%\")"
      ],
      "metadata": {
        "colab": {
          "base_uri": "https://localhost:8080/"
        },
        "id": "PpEavDMliz3G",
        "outputId": "653f269f-96b9-4b86-cc31-fa6e149bb3e3"
      },
      "execution_count": 31,
      "outputs": [
        {
          "output_type": "stream",
          "name": "stdout",
          "text": [
            "Training Accuracy: 97.58%\n"
          ]
        }
      ]
    },
    {
      "cell_type": "code",
      "source": [
        "# Evaluating on testing set\n",
        "model1.eval()\n",
        "with torch.inference_mode():\n",
        "  output= model1(X_test)\n",
        "  predicted= output.round()\n",
        "  correct= (predicted == Y_test.view(-1,1)).float().sum()\n",
        "  accuracy= correct/Y_test.size(0)\n",
        "  print(f\"Testing Accuracy: {accuracy.item()*100:.2f}%\")"
      ],
      "metadata": {
        "colab": {
          "base_uri": "https://localhost:8080/"
        },
        "id": "k8PHj2U5qDSd",
        "outputId": "525cb617-d4f7-4a3c-a59e-e1684b7618ac"
      },
      "execution_count": 32,
      "outputs": [
        {
          "output_type": "stream",
          "name": "stdout",
          "text": [
            "Testing Accuracy: 97.37%\n"
          ]
        }
      ]
    },
    {
      "cell_type": "code",
      "source": [],
      "metadata": {
        "id": "kLFQUytGqa8q"
      },
      "execution_count": null,
      "outputs": []
    }
  ]
}